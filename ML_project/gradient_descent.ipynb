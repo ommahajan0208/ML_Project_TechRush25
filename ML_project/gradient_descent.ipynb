{
 "cells": [
  {
   "cell_type": "code",
   "execution_count": 2,
   "id": "f1a99168",
   "metadata": {},
   "outputs": [],
   "source": [
    "import math, copy\n",
    "import numpy as np\n",
    "import pandas as pd\n",
    "import matplotlib.pyplot as plt\n",
    "plt.style.use('./deeplearning.mplstyle')\n",
    "from lab_utils_uni import plt_house_x, plt_contour_wgrad, plt_divergence, plt_gradients"
   ]
  },
  {
   "cell_type": "code",
   "execution_count": 75,
   "id": "2372fc29",
   "metadata": {},
   "outputs": [
    {
     "data": {
      "text/html": [
       "<div>\n",
       "<style scoped>\n",
       "    .dataframe tbody tr th:only-of-type {\n",
       "        vertical-align: middle;\n",
       "    }\n",
       "\n",
       "    .dataframe tbody tr th {\n",
       "        vertical-align: top;\n",
       "    }\n",
       "\n",
       "    .dataframe thead th {\n",
       "        text-align: right;\n",
       "    }\n",
       "</style>\n",
       "<table border=\"1\" class=\"dataframe\">\n",
       "  <thead>\n",
       "    <tr style=\"text-align: right;\">\n",
       "      <th></th>\n",
       "      <th>price</th>\n",
       "      <th>area</th>\n",
       "      <th>bedrooms</th>\n",
       "      <th>bathrooms</th>\n",
       "      <th>stories</th>\n",
       "      <th>mainroad</th>\n",
       "      <th>guestroom</th>\n",
       "      <th>basement</th>\n",
       "      <th>hotwaterheating</th>\n",
       "      <th>airconditioning</th>\n",
       "      <th>parking</th>\n",
       "      <th>prefarea</th>\n",
       "      <th>furnishingstatus</th>\n",
       "    </tr>\n",
       "  </thead>\n",
       "  <tbody>\n",
       "    <tr>\n",
       "      <th>540</th>\n",
       "      <td>1820000</td>\n",
       "      <td>3000</td>\n",
       "      <td>2</td>\n",
       "      <td>1</td>\n",
       "      <td>1</td>\n",
       "      <td>yes</td>\n",
       "      <td>no</td>\n",
       "      <td>yes</td>\n",
       "      <td>no</td>\n",
       "      <td>no</td>\n",
       "      <td>2</td>\n",
       "      <td>no</td>\n",
       "      <td>unfurnished</td>\n",
       "    </tr>\n",
       "    <tr>\n",
       "      <th>541</th>\n",
       "      <td>1767150</td>\n",
       "      <td>2400</td>\n",
       "      <td>3</td>\n",
       "      <td>1</td>\n",
       "      <td>1</td>\n",
       "      <td>no</td>\n",
       "      <td>no</td>\n",
       "      <td>no</td>\n",
       "      <td>no</td>\n",
       "      <td>no</td>\n",
       "      <td>0</td>\n",
       "      <td>no</td>\n",
       "      <td>semi-furnished</td>\n",
       "    </tr>\n",
       "    <tr>\n",
       "      <th>542</th>\n",
       "      <td>1750000</td>\n",
       "      <td>3620</td>\n",
       "      <td>2</td>\n",
       "      <td>1</td>\n",
       "      <td>1</td>\n",
       "      <td>yes</td>\n",
       "      <td>no</td>\n",
       "      <td>no</td>\n",
       "      <td>no</td>\n",
       "      <td>no</td>\n",
       "      <td>0</td>\n",
       "      <td>no</td>\n",
       "      <td>unfurnished</td>\n",
       "    </tr>\n",
       "    <tr>\n",
       "      <th>543</th>\n",
       "      <td>1750000</td>\n",
       "      <td>2910</td>\n",
       "      <td>3</td>\n",
       "      <td>1</td>\n",
       "      <td>1</td>\n",
       "      <td>no</td>\n",
       "      <td>no</td>\n",
       "      <td>no</td>\n",
       "      <td>no</td>\n",
       "      <td>no</td>\n",
       "      <td>0</td>\n",
       "      <td>no</td>\n",
       "      <td>furnished</td>\n",
       "    </tr>\n",
       "    <tr>\n",
       "      <th>544</th>\n",
       "      <td>1750000</td>\n",
       "      <td>3850</td>\n",
       "      <td>3</td>\n",
       "      <td>1</td>\n",
       "      <td>2</td>\n",
       "      <td>yes</td>\n",
       "      <td>no</td>\n",
       "      <td>no</td>\n",
       "      <td>no</td>\n",
       "      <td>no</td>\n",
       "      <td>0</td>\n",
       "      <td>no</td>\n",
       "      <td>unfurnished</td>\n",
       "    </tr>\n",
       "  </tbody>\n",
       "</table>\n",
       "</div>"
      ],
      "text/plain": [
       "       price  area  bedrooms  bathrooms  stories mainroad guestroom basement  \\\n",
       "540  1820000  3000         2          1        1      yes        no      yes   \n",
       "541  1767150  2400         3          1        1       no        no       no   \n",
       "542  1750000  3620         2          1        1      yes        no       no   \n",
       "543  1750000  2910         3          1        1       no        no       no   \n",
       "544  1750000  3850         3          1        2      yes        no       no   \n",
       "\n",
       "    hotwaterheating airconditioning  parking prefarea furnishingstatus  \n",
       "540              no              no        2       no      unfurnished  \n",
       "541              no              no        0       no   semi-furnished  \n",
       "542              no              no        0       no      unfurnished  \n",
       "543              no              no        0       no        furnished  \n",
       "544              no              no        0       no      unfurnished  "
      ]
     },
     "execution_count": 75,
     "metadata": {},
     "output_type": "execute_result"
    }
   ],
   "source": [
    "df = pd.read_csv(\"C:\\\\Users\\\\Shravan\\\\Desktop\\\\Housing.csv\")\n",
    "df.head()\n",
    "df.tail()"
   ]
  },
  {
   "cell_type": "code",
   "execution_count": 33,
   "id": "4cc77059",
   "metadata": {},
   "outputs": [
    {
     "data": {
      "text/plain": [
       "price               0\n",
       "area                0\n",
       "bedrooms            0\n",
       "bathrooms           0\n",
       "stories             0\n",
       "mainroad            0\n",
       "guestroom           0\n",
       "basement            0\n",
       "hotwaterheating     0\n",
       "airconditioning     0\n",
       "parking             0\n",
       "prefarea            0\n",
       "furnishingstatus    0\n",
       "dtype: int64"
      ]
     },
     "execution_count": 33,
     "metadata": {},
     "output_type": "execute_result"
    }
   ],
   "source": [
    "df.isnull().sum()"
   ]
  },
  {
   "cell_type": "code",
   "execution_count": 90,
   "id": "aaed14fa",
   "metadata": {},
   "outputs": [],
   "source": [
    "x_train = np.array([df.iloc[0:500]['area']]).flatten()\n",
    "x_train = x_train / 1000"
   ]
  },
  {
   "cell_type": "code",
   "execution_count": 91,
   "id": "49034fbc",
   "metadata": {},
   "outputs": [
    {
     "data": {
      "text/plain": [
       "array([13.3    , 12.25   , 12.25   , 12.215  , 11.41   , 10.85   ,\n",
       "       10.15   , 10.15   ,  9.87   ,  9.8    ,  9.8    ,  9.681  ,\n",
       "        9.31   ,  9.24   ,  9.24   ,  9.1    ,  9.1    ,  8.96   ,\n",
       "        8.89   ,  8.855  ,  8.75   ,  8.68   ,  8.645  ,  8.645  ,\n",
       "        8.575  ,  8.54   ,  8.463  ,  8.4    ,  8.4    ,  8.4    ,\n",
       "        8.4    ,  8.4    ,  8.295  ,  8.19   ,  8.12   ,  8.08094,\n",
       "        8.043  ,  7.98   ,  7.9625 ,  7.91   ,  7.875  ,  7.84   ,\n",
       "        7.7    ,  7.7    ,  7.56   ,  7.56   ,  7.525  ,  7.49   ,\n",
       "        7.455  ,  7.42   ,  7.42   ,  7.42   ,  7.35   ,  7.35   ,\n",
       "        7.35   ,  7.35   ,  7.343  ,  7.245  ,  7.21   ,  7.21   ,\n",
       "        7.14   ,  7.07   ,  7.07   ,  7.035  ,  7.     ,  6.93   ,\n",
       "        6.93   ,  6.895  ,  6.86   ,  6.79   ,  6.79   ,  6.755  ,\n",
       "        6.72   ,  6.685  ,  6.65   ,  6.65   ,  6.65   ,  6.65   ,\n",
       "        6.65   ,  6.65   ,  6.629  ,  6.615  ,  6.615  ,  6.58   ,\n",
       "        6.51   ,  6.51   ,  6.51   ,  6.475  ,  6.475  ,  6.44   ,\n",
       "        6.44   ,  6.419  ,  6.405  ,  6.3    ,  6.3    ,  6.3    ,\n",
       "        6.3    ,  6.3    ,  6.293  ,  6.265  ,  6.23   ,  6.23   ,\n",
       "        6.195  ,  6.195  ,  6.195  ,  6.16   ,  6.16   ,  6.125  ,\n",
       "        6.1075 ,  6.09   ,  6.09   ,  6.09   ,  6.083  ,  6.083  ,\n",
       "        6.02   ,  6.02   ,  6.02   ,  5.95   ,  5.95   ,  5.95   ,\n",
       "        5.95   ,  5.95   ,  5.95   ,  5.95   ,  5.95   ,  5.943  ,\n",
       "        5.88   ,  5.88   ,  5.873  ,  5.873  ,  5.866  ,  5.81   ,\n",
       "        5.81   ,  5.81   ,  5.803  ,  5.775  ,  5.74   ,  5.74   ,\n",
       "        5.74   ,  5.74   ,  5.74   ,  5.6525 ,  5.6    ,  5.6    ,\n",
       "        5.6    ,  5.6    ,  5.6    ,  5.6    ,  5.6    ,  5.6    ,\n",
       "        5.6    ,  5.565  ,  5.565  ,  5.53   ,  5.53   ,  5.53   ,\n",
       "        5.523  ,  5.495  ,  5.495  ,  5.46   ,  5.46   ,  5.46   ,\n",
       "        5.46   ,  5.425  ,  5.39   ,  5.383  ,  5.32   ,  5.285  ,\n",
       "        5.25   ,  5.25   ,  5.25   ,  5.25   ,  5.25   ,  5.25   ,\n",
       "        5.25   ,  5.25   ,  5.25   ,  5.243  ,  5.229  ,  5.215  ,\n",
       "        5.215  ,  5.215  ,  5.145  ,  5.145  ,  5.11   ,  5.11   ,\n",
       "        5.11   ,  5.11   ,  5.075  ,  5.04   ,  5.04   ,  5.04   ,\n",
       "        5.04   ,  5.033  ,  5.005  ,  4.97   ,  4.97   ,  4.956  ,\n",
       "        4.935  ,  4.907  ,  4.9    ,  4.9    ,  4.9    ,  4.9    ,\n",
       "        4.9    ,  4.9    ,  4.9    ,  4.9    ,  4.9    ,  4.9    ,\n",
       "        4.9    ,  4.9    ,  4.893  ,  4.893  ,  4.865  ,  4.83   ,\n",
       "        4.83   ,  4.83   ,  4.83   ,  4.795  ,  4.795  ,  4.767  ,\n",
       "        4.76   ,  4.76   ,  4.76   ,  4.753  ,  4.69   ,  4.69   ,\n",
       "        4.69   ,  4.69   ,  4.69   ,  4.69   ,  4.655  ,  4.62   ,\n",
       "        4.62   ,  4.62   ,  4.62   ,  4.62   ,  4.613  ,  4.585  ,\n",
       "        4.585  ,  4.55   ,  4.55   ,  4.55   ,  4.55   ,  4.55   ,\n",
       "        4.55   ,  4.55   ,  4.543  ,  4.543  ,  4.515  ,  4.515  ,\n",
       "        4.515  ,  4.515  ,  4.48   ,  4.48   ,  4.48   ,  4.48   ,\n",
       "        4.48   ,  4.473  ,  4.473  ,  4.473  ,  4.445  ,  4.41   ,\n",
       "        4.41   ,  4.403  ,  4.403  ,  4.403  ,  4.382  ,  4.375  ,\n",
       "        4.34   ,  4.34   ,  4.34   ,  4.34   ,  4.34   ,  4.319  ,\n",
       "        4.305  ,  4.305  ,  4.277  ,  4.27   ,  4.27   ,  4.27   ,\n",
       "        4.27   ,  4.27   ,  4.27   ,  4.235  ,  4.235  ,  4.2    ,\n",
       "        4.2    ,  4.2    ,  4.2    ,  4.2    ,  4.2    ,  4.2    ,\n",
       "        4.2    ,  4.2    ,  4.2    ,  4.2    ,  4.2    ,  4.2    ,\n",
       "        4.2    ,  4.2    ,  4.2    ,  4.2    ,  4.193  ,  4.193  ,\n",
       "        4.165  ,  4.165  ,  4.165  ,  4.13   ,  4.13   ,  4.123  ,\n",
       "        4.0985 ,  4.095  ,  4.095  ,  4.095  ,  4.06   ,  4.06   ,\n",
       "        4.06   ,  4.06   ,  4.06   ,  4.025  ,  4.025  ,  4.025  ,\n",
       "        4.0075 ,  4.0075 ,  3.99   ,  3.99   ,  3.99   ,  3.99   ,\n",
       "        3.99   ,  3.92   ,  3.92   ,  3.92   ,  3.92   ,  3.92   ,\n",
       "        3.92   ,  3.92   ,  3.885  ,  3.885  ,  3.85   ,  3.85   ,\n",
       "        3.85   ,  3.85   ,  3.85   ,  3.85   ,  3.85   ,  3.836  ,\n",
       "        3.815  ,  3.78   ,  3.78   ,  3.78   ,  3.78   ,  3.78   ,\n",
       "        3.78   ,  3.773  ,  3.773  ,  3.773  ,  3.745  ,  3.71   ,\n",
       "        3.71   ,  3.71   ,  3.71   ,  3.71   ,  3.703  ,  3.703  ,\n",
       "        3.675  ,  3.675  ,  3.675  ,  3.675  ,  3.64   ,  3.64   ,\n",
       "        3.64   ,  3.64   ,  3.64   ,  3.64   ,  3.64   ,  3.64   ,\n",
       "        3.64   ,  3.633  ,  3.605  ,  3.605  ,  3.57   ,  3.57   ,\n",
       "        3.57   ,  3.57   ,  3.535  ,  3.5    ,  3.5    ,  3.5    ,\n",
       "        3.5    ,  3.5    ,  3.5    ,  3.5    ,  3.5    ,  3.5    ,\n",
       "        3.5    ,  3.5    ,  3.5    ,  3.5    ,  3.5    ,  3.5    ,\n",
       "        3.5    ,  3.5    ,  3.493  ,  3.465  ,  3.465  ,  3.465  ,\n",
       "        3.43   ,  3.43   ,  3.43   ,  3.43   ,  3.43   ,  3.43   ,\n",
       "        3.423  ,  3.395  ,  3.395  ,  3.395  ,  3.36   ,  3.36   ,\n",
       "        3.36   ,  3.36   ,  3.36   ,  3.36   ,  3.36   ,  3.36   ,\n",
       "        3.353  ,  3.332  ,  3.325  ,  3.325  ,  3.29   ,  3.29   ,\n",
       "        3.29   ,  3.29   ,  3.29   ,  3.29   ,  3.29   ,  3.29   ,\n",
       "        3.255  ,  3.255  ,  3.234  ,  3.22   ,  3.22   ,  3.22   ,\n",
       "        3.22   ,  3.15   ,  3.15   ,  3.15   ,  3.15   ,  3.15   ,\n",
       "        3.15   ,  3.15   ,  3.15   ,  3.15   ,  3.143  ,  3.129  ,\n",
       "        3.11885,  3.115  ,  3.115  ,  3.115  ,  3.087  ,  3.08   ,\n",
       "        3.08   ,  3.08   ,  3.08   ,  3.045  ,  3.01   ,  3.01   ,\n",
       "        3.01   ,  3.01   ,  3.01   ,  3.01   ,  3.01   ,  3.003  ,\n",
       "        2.975  ,  2.961  ,  2.94   ,  2.94   ,  2.94   ,  2.94   ,\n",
       "        2.94   ,  2.94   ,  2.94   ,  2.94   ,  2.87   ,  2.87   ,\n",
       "        2.87   ,  2.87   ,  2.8525 ,  2.835  ,  2.835  ,  2.835  ,\n",
       "        2.8    ,  2.8    ,  2.73   ,  2.73   ,  2.695  ,  2.66   ,\n",
       "        2.66   ,  2.66   ])"
      ]
     },
     "execution_count": 91,
     "metadata": {},
     "output_type": "execute_result"
    }
   ],
   "source": [
    "y_train = np.array([df.iloc[0:500]['price']]).flatten()\n",
    "y_train = y_train /1000000\n",
    "y_train"
   ]
  },
  {
   "cell_type": "code",
   "execution_count": 92,
   "id": "b92e870e",
   "metadata": {},
   "outputs": [
    {
     "name": "stdout",
     "output_type": "stream",
     "text": [
      "[ 7.42   8.96   9.96   7.5    7.42   7.5    8.58  16.2    8.1    5.75\n",
      " 13.2    6.     6.55   3.5    7.8    6.     6.6    8.5    4.6    6.42\n",
      "  4.32   7.155  8.05   4.56   8.8    6.54   6.     8.875  7.95   5.5\n",
      "  7.475  7.     4.88   5.96   6.84   7.     7.482  9.     6.     6.\n",
      "  6.55   6.36   6.48   6.     6.     6.     6.     6.6    4.3    7.44\n",
      "  7.44   6.325  6.     5.15   6.     6.    11.44   9.     7.68   6.\n",
      "  6.     8.88   6.24   6.36  11.175  8.88  13.2    7.7    6.    12.09\n",
      "  4.     6.     5.02   6.6    4.04   4.26   6.42   6.5    5.7    6.\n",
      "  6.     4.    10.5    6.     3.76   8.25   6.67   3.96   7.41   8.58\n",
      "  5.     6.75   4.8    7.2    6.     4.1    9.     6.4    6.6    6.\n",
      "  6.6    5.5    5.5    6.35   5.5    4.5    5.45   6.42   3.24   6.615\n",
      "  6.6    8.372  4.3    9.62   6.8    8.     6.9    3.7    6.42   7.02\n",
      "  6.54   7.231  6.254  7.32   6.525 15.6    7.16   6.5    5.5   11.46\n",
      "  4.8    5.828  5.2    4.8    7.     6.     5.4    4.64   5.     6.36\n",
      "  5.8    6.66  10.5    4.8    4.7    5.    10.5    5.5    6.36   6.6\n",
      "  5.136  4.4    5.4    3.3    3.65   6.1    6.9    2.817  7.98   3.15\n",
      "  6.21   6.1    6.6    6.825  6.71   6.45   7.8    4.6    4.26   6.54\n",
      "  5.5   10.269  8.4    5.3    3.8    9.8    8.52   6.05   7.085  3.18\n",
      "  4.5    7.2    3.41   7.98   3.     3.    11.41   6.1    5.72   3.54\n",
      "  7.6   10.7    6.6    4.8    8.15   4.41   7.686  2.8    5.948  4.2\n",
      "  4.52   4.095  4.12   5.4    4.77   6.3    5.8    3.     2.97   6.72\n",
      "  4.646 12.9    3.42   4.995  4.35   4.16   6.04   6.862  4.815  7.\n",
      "  8.1    3.42   9.166  6.321 10.24   6.44   5.17   6.     3.63   9.667\n",
      "  5.4    4.32   3.745  4.16   3.88   5.68   2.87   5.01   4.51   4.\n",
      "  3.84   3.76   3.64   2.55   5.32   5.36   3.52   8.4    4.1    4.99\n",
      "  3.51   3.45   9.86   3.52   4.51   5.885  4.     8.25   4.04   6.36\n",
      "  3.162  3.51   3.75   3.968  4.9    2.88   4.88   4.92   4.95   3.9\n",
      "  4.5    1.905  4.075  3.5    6.45   4.032  4.4   10.36   3.4    6.36\n",
      "  6.36   4.5    2.175  4.36   7.77   6.65   2.787  5.5    5.04   5.85\n",
      "  2.61   2.953  2.747  4.41   4.     2.325  4.6    3.64   5.8    7.\n",
      "  4.079  3.52   2.145  4.5    8.25   3.45   4.84   4.08   4.046  4.632\n",
      "  5.985  6.06   3.6    3.68   4.04   5.6    5.9    4.992  4.34   3.\n",
      "  4.32   3.63   3.46   5.4    4.5    3.46   4.1    6.48   4.5    3.96\n",
      "  4.05   7.26   5.5    3.     3.29   3.816  8.08   2.145  3.78   3.18\n",
      "  5.3    3.18   7.152  4.08   3.85   2.015  2.176  3.35   3.15   4.82\n",
      "  3.42   3.6    5.83   2.856  8.4    8.25   2.52   6.93   3.48   3.6\n",
      "  4.04   6.02   4.05   3.584  3.12   5.45   3.63   3.63   5.64   3.6\n",
      "  4.28   3.57   3.18   3.     3.52   5.96   4.13   2.85   2.275  3.52\n",
      "  4.5    4.     3.15   4.5    4.5    3.64   3.85   4.24   3.65   4.6\n",
      "  2.135  3.036  3.99   7.424  3.48   3.6    3.64   5.9    3.12   7.35\n",
      "  3.512  9.5    5.88  12.944  4.9    3.06   5.32   2.145  4.     3.185\n",
      "  3.85   2.145  2.61   1.95   4.04   4.785  3.45   3.64   3.5    4.96\n",
      "  4.12   4.75   3.72   3.75   3.1    3.185  2.7    2.145  4.04   4.775\n",
      "  2.5    3.18   6.06   3.48   3.792  4.04   2.145  5.88   4.5    3.93\n",
      "  3.64   4.37   2.684  4.32   3.12   3.45   3.986  3.5    4.095  1.65\n",
      "  3.45   6.75   9.     3.069  4.5    5.495  2.398  3.     3.85   3.5\n",
      "  8.1    4.96   2.16   3.09   4.5    3.8    3.09   3.24   2.835  4.6\n",
      "  5.076  3.75   3.63   8.05   4.352  3.     5.85   4.96   3.6    3.66\n",
      "  3.48   2.7    3.15   6.615  3.04   3.63   6.     5.4    5.2    3.3\n",
      "  4.35   2.64   2.65   3.96   6.8    4.     4.     3.934  2.     3.63 ]\n",
      "[13.3     12.25    12.25    12.215   11.41    10.85    10.15    10.15\n",
      "  9.87     9.8      9.8      9.681    9.31     9.24     9.24     9.1\n",
      "  9.1      8.96     8.89     8.855    8.75     8.68     8.645    8.645\n",
      "  8.575    8.54     8.463    8.4      8.4      8.4      8.4      8.4\n",
      "  8.295    8.19     8.12     8.08094  8.043    7.98     7.9625   7.91\n",
      "  7.875    7.84     7.7      7.7      7.56     7.56     7.525    7.49\n",
      "  7.455    7.42     7.42     7.42     7.35     7.35     7.35     7.35\n",
      "  7.343    7.245    7.21     7.21     7.14     7.07     7.07     7.035\n",
      "  7.       6.93     6.93     6.895    6.86     6.79     6.79     6.755\n",
      "  6.72     6.685    6.65     6.65     6.65     6.65     6.65     6.65\n",
      "  6.629    6.615    6.615    6.58     6.51     6.51     6.51     6.475\n",
      "  6.475    6.44     6.44     6.419    6.405    6.3      6.3      6.3\n",
      "  6.3      6.3      6.293    6.265    6.23     6.23     6.195    6.195\n",
      "  6.195    6.16     6.16     6.125    6.1075   6.09     6.09     6.09\n",
      "  6.083    6.083    6.02     6.02     6.02     5.95     5.95     5.95\n",
      "  5.95     5.95     5.95     5.95     5.95     5.943    5.88     5.88\n",
      "  5.873    5.873    5.866    5.81     5.81     5.81     5.803    5.775\n",
      "  5.74     5.74     5.74     5.74     5.74     5.6525   5.6      5.6\n",
      "  5.6      5.6      5.6      5.6      5.6      5.6      5.6      5.565\n",
      "  5.565    5.53     5.53     5.53     5.523    5.495    5.495    5.46\n",
      "  5.46     5.46     5.46     5.425    5.39     5.383    5.32     5.285\n",
      "  5.25     5.25     5.25     5.25     5.25     5.25     5.25     5.25\n",
      "  5.25     5.243    5.229    5.215    5.215    5.215    5.145    5.145\n",
      "  5.11     5.11     5.11     5.11     5.075    5.04     5.04     5.04\n",
      "  5.04     5.033    5.005    4.97     4.97     4.956    4.935    4.907\n",
      "  4.9      4.9      4.9      4.9      4.9      4.9      4.9      4.9\n",
      "  4.9      4.9      4.9      4.9      4.893    4.893    4.865    4.83\n",
      "  4.83     4.83     4.83     4.795    4.795    4.767    4.76     4.76\n",
      "  4.76     4.753    4.69     4.69     4.69     4.69     4.69     4.69\n",
      "  4.655    4.62     4.62     4.62     4.62     4.62     4.613    4.585\n",
      "  4.585    4.55     4.55     4.55     4.55     4.55     4.55     4.55\n",
      "  4.543    4.543    4.515    4.515    4.515    4.515    4.48     4.48\n",
      "  4.48     4.48     4.48     4.473    4.473    4.473    4.445    4.41\n",
      "  4.41     4.403    4.403    4.403    4.382    4.375    4.34     4.34\n",
      "  4.34     4.34     4.34     4.319    4.305    4.305    4.277    4.27\n",
      "  4.27     4.27     4.27     4.27     4.27     4.235    4.235    4.2\n",
      "  4.2      4.2      4.2      4.2      4.2      4.2      4.2      4.2\n",
      "  4.2      4.2      4.2      4.2      4.2      4.2      4.2      4.2\n",
      "  4.193    4.193    4.165    4.165    4.165    4.13     4.13     4.123\n",
      "  4.0985   4.095    4.095    4.095    4.06     4.06     4.06     4.06\n",
      "  4.06     4.025    4.025    4.025    4.0075   4.0075   3.99     3.99\n",
      "  3.99     3.99     3.99     3.92     3.92     3.92     3.92     3.92\n",
      "  3.92     3.92     3.885    3.885    3.85     3.85     3.85     3.85\n",
      "  3.85     3.85     3.85     3.836    3.815    3.78     3.78     3.78\n",
      "  3.78     3.78     3.78     3.773    3.773    3.773    3.745    3.71\n",
      "  3.71     3.71     3.71     3.71     3.703    3.703    3.675    3.675\n",
      "  3.675    3.675    3.64     3.64     3.64     3.64     3.64     3.64\n",
      "  3.64     3.64     3.64     3.633    3.605    3.605    3.57     3.57\n",
      "  3.57     3.57     3.535    3.5      3.5      3.5      3.5      3.5\n",
      "  3.5      3.5      3.5      3.5      3.5      3.5      3.5      3.5\n",
      "  3.5      3.5      3.5      3.5      3.493    3.465    3.465    3.465\n",
      "  3.43     3.43     3.43     3.43     3.43     3.43     3.423    3.395\n",
      "  3.395    3.395    3.36     3.36     3.36     3.36     3.36     3.36\n",
      "  3.36     3.36     3.353    3.332    3.325    3.325    3.29     3.29\n",
      "  3.29     3.29     3.29     3.29     3.29     3.29     3.255    3.255\n",
      "  3.234    3.22     3.22     3.22     3.22     3.15     3.15     3.15\n",
      "  3.15     3.15     3.15     3.15     3.15     3.15     3.143    3.129\n",
      "  3.11885  3.115    3.115    3.115    3.087    3.08     3.08     3.08\n",
      "  3.08     3.045    3.01     3.01     3.01     3.01     3.01     3.01\n",
      "  3.01     3.003    2.975    2.961    2.94     2.94     2.94     2.94\n",
      "  2.94     2.94     2.94     2.94     2.87     2.87     2.87     2.87\n",
      "  2.8525   2.835    2.835    2.835    2.8      2.8      2.73     2.73\n",
      "  2.695    2.66     2.66     2.66   ]\n"
     ]
    }
   ],
   "source": [
    "print(x_train)\n",
    "print(y_train)"
   ]
  },
  {
   "cell_type": "code",
   "execution_count": 93,
   "id": "3f89c857",
   "metadata": {},
   "outputs": [],
   "source": [
    "def compute_cost(w,b,x,y):\n",
    "    m = x.shape[0]\n",
    "    cost = 0\n",
    "    for i in range(m):\n",
    "        f_w = w * x[i] + b\n",
    "        cost += (f_w - y[i])**2\n",
    "\n",
    "    total_cost = 1/(2 * m) * (cost)\n",
    "\n",
    "    return total_cost"
   ]
  },
  {
   "cell_type": "code",
   "execution_count": 94,
   "id": "dbde0874",
   "metadata": {},
   "outputs": [],
   "source": [
    "def compute_gradient(w,b,x,y):\n",
    "    m = x.shape[0]\n",
    "    dj_dw = 0\n",
    "    dj_db = 0\n",
    "    for i in range(m):\n",
    "        f_w = w * x[i] + b\n",
    "        dj_dw += (f_w  - y[i]) * x[i]\n",
    "        dj_db += (f_w - y[i])\n",
    "\n",
    "    dj_dw = dj_dw/m\n",
    "    dj_db = dj_db/m\n",
    "\n",
    "    return dj_dw, dj_db"
   ]
  },
  {
   "cell_type": "code",
   "execution_count": 95,
   "id": "a29c9763",
   "metadata": {},
   "outputs": [],
   "source": [
    "def gradient_descent(x,y,w_in,b_in,alpha,iteration,cost_function, gradient_function):\n",
    "    J_history = []\n",
    "    p_history = []\n",
    "    w = w_in\n",
    "    b = b_in\n",
    "    for i in range(iteration):\n",
    "        dj_dw , dj_db = gradient_function(w,b,x,y)\n",
    "        w = w - (alpha * dj_dw)\n",
    "        b = b - (alpha * dj_db)\n",
    "\n",
    "        if i < 100000:\n",
    "            J_history.append(cost_function(w,b,x,y))\n",
    "            p_history.append([w,b])\n",
    "\n",
    "        if i% math.ceil(iteration/10) == 0:\n",
    "            print(f\"Iteration {i:4}: Cost {J_history[-1]:0.2e} \",\n",
    "                  f\"dj_dw: {dj_dw: 0.3e}, dj_db: {dj_db: 0.3e}  \",\n",
    "                  f\"w: {w: 0.3e}, b:{b: 0.5e}\")\n",
    "    \n",
    "    return w , b , J_history, p_history"
   ]
  },
  {
   "cell_type": "code",
   "execution_count": null,
   "id": "68da7c87",
   "metadata": {},
   "outputs": [
    {
     "name": "stdout",
     "output_type": "stream",
     "text": [
      "Iteration    0: Cost 7.12e+00  dj_dw: -2.842e+01, dj_db: -4.988e+00   w:  2.842e-01, b: 4.98790e-02\n",
      "Iteration   50: Cost 1.66e+00  dj_dw:  5.663e-02, dj_db: -3.497e-01   w:  8.130e-01, b: 3.21237e-01\n",
      "Iteration  100: Cost 1.60e+00  dj_dw:  5.280e-02, dj_db: -3.260e-01   w:  7.856e-01, b: 4.89983e-01\n",
      "Iteration  150: Cost 1.55e+00  dj_dw:  4.923e-02, dj_db: -3.040e-01   w:  7.602e-01, b: 6.47318e-01\n",
      "Iteration  200: Cost 1.50e+00  dj_dw:  4.590e-02, dj_db: -2.834e-01   w:  7.364e-01, b: 7.94013e-01\n",
      "Iteration  250: Cost 1.46e+00  dj_dw:  4.280e-02, dj_db: -2.643e-01   w:  7.142e-01, b: 9.30789e-01\n",
      "Iteration  300: Cost 1.43e+00  dj_dw:  3.990e-02, dj_db: -2.464e-01   w:  6.936e-01, b: 1.05832e+00\n",
      "Iteration  350: Cost 1.40e+00  dj_dw:  3.721e-02, dj_db: -2.297e-01   w:  6.743e-01, b: 1.17722e+00\n",
      "Iteration  400: Cost 1.38e+00  dj_dw:  3.469e-02, dj_db: -2.142e-01   w:  6.564e-01, b: 1.28808e+00\n",
      "Iteration  450: Cost 1.35e+00  dj_dw:  3.234e-02, dj_db: -1.997e-01   w:  6.396e-01, b: 1.39145e+00\n"
     ]
    }
   ],
   "source": [
    "w_ite = 0\n",
    "b_ite = 0\n",
    "iterations = \n",
    "tmp_alpha = 0.01\n",
    "\n",
    "w_ite , b_ite , J_history , p_history = gradient_descent(x_train, y_train ,w_ite, b_ite, tmp_alpha, iterations, compute_cost,compute_gradient)"
   ]
  },
  {
   "cell_type": "code",
   "execution_count": 134,
   "id": "f68a79c0",
   "metadata": {},
   "outputs": [
    {
     "name": "stdout",
     "output_type": "stream",
     "text": [
      "0.6243392221482037\n",
      "1.485963511922633\n"
     ]
    }
   ],
   "source": [
    "print(w_ite)\n",
    "print(b_ite)"
   ]
  },
  {
   "cell_type": "code",
   "execution_count": 140,
   "id": "2a063f79",
   "metadata": {},
   "outputs": [
    {
     "name": "stdout",
     "output_type": "stream",
     "text": [
      "The predicted Value for x = 3.85 feet is 2.1 dollars\n",
      "The predicted Value for x = 2.91 feet is 2.2 dollars\n",
      "The predicted Value for x = 3.62 feet is 2.7 dollars\n"
     ]
    }
   ],
   "source": [
    "print(f\"The predicted Value for x = {3.850} feet is {w_ite * 1.0 + b_ite:0.1f} dollars\")\n",
    "print(f\"The predicted Value for x = {2.910} feet is {w_ite * 1.2 + b_ite:0.1f} dollars\")\n",
    "print(f\"The predicted Value for x = {3.620} feet is {w_ite * 2.0 + b_ite:0.1f} dollars\")"
   ]
  },
  {
   "cell_type": "code",
   "execution_count": 139,
   "id": "0cdeaefc",
   "metadata": {},
   "outputs": [
    {
     "ename": "IndexError",
     "evalue": "tuple index out of range",
     "output_type": "error",
     "traceback": [
      "\u001b[31m---------------------------------------------------------------------------\u001b[39m",
      "\u001b[31mIndexError\u001b[39m                                Traceback (most recent call last)",
      "\u001b[36mCell\u001b[39m\u001b[36m \u001b[39m\u001b[32mIn[139]\u001b[39m\u001b[32m, line 1\u001b[39m\n\u001b[32m----> \u001b[39m\u001b[32m1\u001b[39m \u001b[43mplt_gradients\u001b[49m\u001b[43m(\u001b[49m\u001b[43mx_train\u001b[49m\u001b[43m,\u001b[49m\u001b[43my_train\u001b[49m\u001b[43m,\u001b[49m\u001b[43m \u001b[49m\u001b[43mcompute_cost\u001b[49m\u001b[43m,\u001b[49m\u001b[43m \u001b[49m\u001b[43mcompute_gradient\u001b[49m\u001b[43m)\u001b[49m\n\u001b[32m      2\u001b[39m plt.show()\n",
      "\u001b[36mFile \u001b[39m\u001b[32mc:\\Users\\Shravan\\Desktop\\ML-course notes\\Week-1\\lab_utils_uni.py:367\u001b[39m, in \u001b[36mplt_gradients\u001b[39m\u001b[34m(x_train, y_train, f_compute_cost, f_compute_gradient)\u001b[39m\n\u001b[32m    365\u001b[39m \u001b[38;5;28;01mfor\u001b[39;00m i \u001b[38;5;129;01min\u001b[39;00m \u001b[38;5;28mrange\u001b[39m(\u001b[38;5;28mlen\u001b[39m(w_array)):\n\u001b[32m    366\u001b[39m     tmp_w = w_array[i]\n\u001b[32m--> \u001b[39m\u001b[32m367\u001b[39m     cost[i] = \u001b[43mf_compute_cost\u001b[49m\u001b[43m(\u001b[49m\u001b[43mx_train\u001b[49m\u001b[43m,\u001b[49m\u001b[43m \u001b[49m\u001b[43my_train\u001b[49m\u001b[43m,\u001b[49m\u001b[43m \u001b[49m\u001b[43mtmp_w\u001b[49m\u001b[43m,\u001b[49m\u001b[43m \u001b[49m\u001b[43mfix_b\u001b[49m\u001b[43m)\u001b[49m\n\u001b[32m    368\u001b[39m ax[\u001b[32m0\u001b[39m].plot(w_array, cost,linewidth=\u001b[32m1\u001b[39m)\n\u001b[32m    369\u001b[39m ax[\u001b[32m0\u001b[39m].set_title(\u001b[33m\"\u001b[39m\u001b[33mCost vs w, with gradient; b set to 100\u001b[39m\u001b[33m\"\u001b[39m)\n",
      "\u001b[36mCell\u001b[39m\u001b[36m \u001b[39m\u001b[32mIn[93]\u001b[39m\u001b[32m, line 2\u001b[39m, in \u001b[36mcompute_cost\u001b[39m\u001b[34m(w, b, x, y)\u001b[39m\n\u001b[32m      1\u001b[39m \u001b[38;5;28;01mdef\u001b[39;00m\u001b[38;5;250m \u001b[39m\u001b[34mcompute_cost\u001b[39m(w,b,x,y):\n\u001b[32m----> \u001b[39m\u001b[32m2\u001b[39m     m = \u001b[43mx\u001b[49m\u001b[43m.\u001b[49m\u001b[43mshape\u001b[49m\u001b[43m[\u001b[49m\u001b[32;43m0\u001b[39;49m\u001b[43m]\u001b[49m\n\u001b[32m      3\u001b[39m     cost = \u001b[32m0\u001b[39m\n\u001b[32m      4\u001b[39m     \u001b[38;5;28;01mfor\u001b[39;00m i \u001b[38;5;129;01min\u001b[39;00m \u001b[38;5;28mrange\u001b[39m(m):\n",
      "\u001b[31mIndexError\u001b[39m: tuple index out of range"
     ]
    },
    {
     "data": {
      "image/png": "[encoded data removed]",
      "text/plain": [
       "<Figure size 1200x400 with 2 Axes>"
      ]
     },
     "metadata": {},
     "output_type": "display_data"
    }
   ],
   "source": [
    "plt_gradients(x_train,y_train, compute_cost, compute_gradient)\n",
    "plt.show()"
   ]
  },
  {
   "cell_type": "code",
   "execution_count": 137,
   "id": "8c00a05a",
   "metadata": {},
   "outputs": [
    {
     "data": {
      "image/png": "[encoded data removed]",
      "text/plain": [
       "<Figure size 1200x400 with 2 Axes>"
      ]
     },
     "metadata": {},
     "output_type": "display_data"
    }
   ],
   "source": [
    "fig, (ax1, ax2) = plt.subplots(1, 2, constrained_layout=True, figsize=(12,4))\n",
    "ax1.plot(J_history[:100])\n",
    "ax2.plot(1000 + np.arange(len(J_history[1000:])), J_history[1000:])\n",
    "ax1.set_title(\"Cost vs. iteration(start)\");  ax2.set_title(\"Cost vs. iteration (end)\")\n",
    "ax1.set_ylabel('Cost')            ;  ax2.set_ylabel('Cost') \n",
    "ax1.set_xlabel('iteration step')  ;  ax2.set_xlabel('iteration step') \n",
    "plt.show()"
   ]
  },
  {
   "cell_type": "code",
   "execution_count": 138,
   "id": "b55a362f",
   "metadata": {},
   "outputs": [
    {
     "ename": "KeyboardInterrupt",
     "evalue": "",
     "output_type": "error",
     "traceback": [
      "\u001b[31m---------------------------------------------------------------------------\u001b[39m",
      "\u001b[31mKeyboardInterrupt\u001b[39m                         Traceback (most recent call last)",
      "\u001b[36mCell\u001b[39m\u001b[36m \u001b[39m\u001b[32mIn[138]\u001b[39m\u001b[32m, line 1\u001b[39m\n\u001b[32m----> \u001b[39m\u001b[32m1\u001b[39m \u001b[43mplt_divergence\u001b[49m\u001b[43m(\u001b[49m\u001b[43mp_history\u001b[49m\u001b[43m,\u001b[49m\u001b[43m \u001b[49m\u001b[43mJ_history\u001b[49m\u001b[43m,\u001b[49m\u001b[43mx_train\u001b[49m\u001b[43m,\u001b[49m\u001b[43m \u001b[49m\u001b[43my_train\u001b[49m\u001b[43m)\u001b[49m\n\u001b[32m      2\u001b[39m plt.show()\n",
      "\u001b[36mFile \u001b[39m\u001b[32mc:\\Users\\Shravan\\Desktop\\ML-course notes\\Week-1\\lab_utils_uni.py:322\u001b[39m, in \u001b[36mplt_divergence\u001b[39m\u001b[34m(p_hist, J_hist, x_train, y_train)\u001b[39m\n\u001b[32m    320\u001b[39m \u001b[38;5;28;01mfor\u001b[39;00m i \u001b[38;5;129;01min\u001b[39;00m \u001b[38;5;28mrange\u001b[39m(tmp_w.shape[\u001b[32m0\u001b[39m]):\n\u001b[32m    321\u001b[39m     \u001b[38;5;28;01mfor\u001b[39;00m j \u001b[38;5;129;01min\u001b[39;00m \u001b[38;5;28mrange\u001b[39m(tmp_w.shape[\u001b[32m1\u001b[39m]):\n\u001b[32m--> \u001b[39m\u001b[32m322\u001b[39m         z[i][j] = \u001b[43mcompute_cost\u001b[49m\u001b[43m(\u001b[49m\u001b[43mx_train\u001b[49m\u001b[43m,\u001b[49m\u001b[43m \u001b[49m\u001b[43my_train\u001b[49m\u001b[43m,\u001b[49m\u001b[43m \u001b[49m\u001b[43mtmp_w\u001b[49m\u001b[43m[\u001b[49m\u001b[43mi\u001b[49m\u001b[43m]\u001b[49m\u001b[43m[\u001b[49m\u001b[43mj\u001b[49m\u001b[43m]\u001b[49m\u001b[43m,\u001b[49m\u001b[43m \u001b[49m\u001b[43mtmp_b\u001b[49m\u001b[43m[\u001b[49m\u001b[43mi\u001b[49m\u001b[43m]\u001b[49m\u001b[43m[\u001b[49m\u001b[43mj\u001b[49m\u001b[43m]\u001b[49m\u001b[43m \u001b[49m\u001b[43m)\u001b[49m\n\u001b[32m    324\u001b[39m ax = fig.add_subplot(gs[\u001b[32m2\u001b[39m:], projection=\u001b[33m'\u001b[39m\u001b[33m3d\u001b[39m\u001b[33m'\u001b[39m)\n\u001b[32m    325\u001b[39m ax.plot_surface(tmp_w, tmp_b, z,  alpha=\u001b[32m0.3\u001b[39m, color=dlblue)\n",
      "\u001b[36mFile \u001b[39m\u001b[32mc:\\Users\\Shravan\\Desktop\\ML-course notes\\Week-1\\lab_utils_common.py:82\u001b[39m, in \u001b[36mcompute_cost\u001b[39m\u001b[34m(X, y, w, b)\u001b[39m\n\u001b[32m     80\u001b[39m cost = \u001b[32m0.0\u001b[39m\n\u001b[32m     81\u001b[39m \u001b[38;5;28;01mfor\u001b[39;00m i \u001b[38;5;129;01min\u001b[39;00m \u001b[38;5;28mrange\u001b[39m(m):\n\u001b[32m---> \u001b[39m\u001b[32m82\u001b[39m     f_wb_i = \u001b[43mnp\u001b[49m\u001b[43m.\u001b[49m\u001b[43mdot\u001b[49m\u001b[43m(\u001b[49m\u001b[43mX\u001b[49m\u001b[43m[\u001b[49m\u001b[43mi\u001b[49m\u001b[43m]\u001b[49m\u001b[43m,\u001b[49m\u001b[43mw\u001b[49m\u001b[43m)\u001b[49m + b           \u001b[38;5;66;03m#(n,)(n,)=scalar\u001b[39;00m\n\u001b[32m     83\u001b[39m     cost = cost + (f_wb_i - y[i])**\u001b[32m2\u001b[39m\n\u001b[32m     84\u001b[39m cost = cost/(\u001b[32m2\u001b[39m*m)\n",
      "\u001b[31mKeyboardInterrupt\u001b[39m: "
     ]
    },
    {
     "data": {
      "image/png": "[encoded data removed]",
      "text/plain": [
       "<Figure size 1200x500 with 1 Axes>"
      ]
     },
     "metadata": {},
     "output_type": "display_data"
    }
   ],
   "source": [
    "plt_divergence(p_history, J_history,x_train, y_train)\n",
    "plt.show()"
   ]
  }
 ],
 "metadata": {
  "kernelspec": {
   "display_name": "Python 3",
   "language": "python",
   "name": "python3"
  },
  "language_info": {
   "codemirror_mode": {
    "name": "ipython",
    "version": 3
   },
   "file_extension": ".py",
   "mimetype": "text/x-python",
   "name": "python",
   "nbconvert_exporter": "python",
   "pygments_lexer": "ipython3",
   "version": "3.12.3"
  }
 },
 "nbformat": 4,
 "nbformat_minor": 5
}
